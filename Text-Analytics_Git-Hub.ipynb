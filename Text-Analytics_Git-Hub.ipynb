{
 "cells": [
  {
   "cell_type": "code",
   "execution_count": null,
   "metadata": {},
   "outputs": [],
   "source": [
    "#!pip install nltk\n",
    "#!pip install -U pip setuptools wheel\n",
    "#!pip install -U spacy\n",
    "#!python -m spacy download es_core_news_sm\n",
    "#!pip install textblob\n",
    "#!python -m textblob.download_corpora"
   ]
  },
  {
   "cell_type": "code",
   "execution_count": 1,
   "metadata": {},
   "outputs": [
    {
     "name": "stderr",
     "output_type": "stream",
     "text": [
      "/home/julio/snap/jupyter/common/lib/python3.7/site-packages/joblib/_multiprocessing_helpers.py:45: UserWarning: [Errno 13] Permission denied.  joblib will operate in serial mode\n",
      "  warnings.warn('%s.  joblib will operate in serial mode' % (e,))\n",
      "[nltk_data] Downloading package punkt to\n",
      "[nltk_data]     /home/julio/snap/jupyter/6/nltk_data...\n",
      "[nltk_data]   Package punkt is already up-to-date!\n",
      "[nltk_data] Downloading package stopwords to\n",
      "[nltk_data]     /home/julio/snap/jupyter/6/nltk_data...\n",
      "[nltk_data]   Package stopwords is already up-to-date!\n",
      "[nltk_data] Downloading package wordnet to\n",
      "[nltk_data]     /home/julio/snap/jupyter/6/nltk_data...\n",
      "[nltk_data]   Package wordnet is already up-to-date!\n",
      "[nltk_data] Downloading package averaged_perceptron_tagger to\n",
      "[nltk_data]     /home/julio/snap/jupyter/6/nltk_data...\n",
      "[nltk_data]   Package averaged_perceptron_tagger is already up-to-\n",
      "[nltk_data]       date!\n"
     ]
    },
    {
     "data": {
      "text/plain": [
       "True"
      ]
     },
     "execution_count": 1,
     "metadata": {},
     "output_type": "execute_result"
    }
   ],
   "source": [
    "#Carga de las biblitecas NLTK y SSL\n",
    "#========================================================================\n",
    "import nltk\n",
    "import ssl\n",
    "\n",
    "#Segmento para evitar problemas con los certificados de seguridad al descargar los pquetes requeridos\n",
    "#========================================================================\n",
    "try:\n",
    "    _create_unverified_https_context = ssl._create_unverified_context\n",
    "except AttributeError:\n",
    "    pass\n",
    "else:\n",
    "    ssl._create_default_https_context = _create_unverified_https_context\n",
    "\n",
    "#Descargar de paquetes\n",
    "#========================================================================\n",
    "nltk.download('punkt')\n",
    "nltk.download('stopwords')\n",
    "nltk.download('wordnet')\n",
    "nltk.download('averaged_perceptron_tagger')"
   ]
  },
  {
   "cell_type": "code",
   "execution_count": 2,
   "metadata": {},
   "outputs": [
    {
     "name": "stdout",
     "output_type": "stream",
     "text": [
      "[De, algo, estoy, seguro, ,, en, estos, momentos, hay, personas, que, ya, están, detenidas, ,, yo, no, puedo, entregar, detalles, porque, no, acostumbro, a, entregar, detalles, de, las, investigaciones, ,, también, podría, entorpecer, el, normal, curso, de, éstas, ,, pero, decirles, que, vamos, a, hacer, todo, lo, humanamente, posible, y, están, todos, los, funcionarios, trabajando, en, la, Región, Metropolitana, para, poder, sacar, resultado, lo, más, rápidamente, posible]\n"
     ]
    }
   ],
   "source": [
    "#Tokenizando usando SPACY. Token separados por coma\n",
    "#========================================================================\n",
    "import spacy\n",
    "\n",
    "#Carga diccionario español\n",
    "#========================================================================\n",
    "nlp = spacy.load(\"es_core_news_sm\")\n",
    "texto = \"De algo estoy seguro, en estos momentos hay personas que ya están detenidas, yo no puedo entregar detalles porque no acostumbro a entregar detalles de las investigaciones, también podría entorpecer el normal curso de éstas, pero decirles que vamos a hacer todo lo humanamente posible y están todos los funcionarios trabajando en la Región Metropolitana para poder sacar resultado lo más rápidamente posible\"\n",
    "doc = nlp(texto)\n",
    "tokens = [token for token in doc]\n",
    "print(tokens)"
   ]
  },
  {
   "cell_type": "code",
   "execution_count": 3,
   "metadata": {},
   "outputs": [
    {
     "name": "stdout",
     "output_type": "stream",
     "text": [
      "['De algo estoy seguro, en estos momentos hay personas que ya están detenidas, yo no puedo entregar detalles porque no acostumbro a entregar detalles de las investigaciones, también podría entorpecer el normal curso de éstas, pero decirles que vamos a hacer todo lo humanamente posible y están todos los funcionarios trabajando en la Región Metropolitana para poder sacar resultado lo más rápidamente posible']\n"
     ]
    }
   ],
   "source": [
    "#Tokenizando, sin separar por palabra, usando NLTK\n",
    "#=======================================================================\n",
    "from nltk.tokenize import sent_tokenize\n",
    "texto=\"De algo estoy seguro, en estos momentos hay personas que ya están detenidas, yo no puedo entregar detalles porque no acostumbro a entregar detalles de las investigaciones, también podría entorpecer el normal curso de éstas, pero decirles que vamos a hacer todo lo humanamente posible y están todos los funcionarios trabajando en la Región Metropolitana para poder sacar resultado lo más rápidamente posible\"\n",
    "tokens=sent_tokenize(texto)\n",
    "print(tokens)"
   ]
  },
  {
   "cell_type": "code",
   "execution_count": 4,
   "metadata": {},
   "outputs": [
    {
     "name": "stdout",
     "output_type": "stream",
     "text": [
      "['De', 'algo', 'estoy', 'seguro', ',', 'en', 'estos', 'momentos', 'hay', 'personas', 'que', 'ya', 'están', 'detenidas', ',', 'yo', 'no', 'puedo', 'entregar', 'detalles', 'porque', 'no', 'acostumbro', 'a', 'entregar', 'detalles', 'de', 'las', 'investigaciones', ',', 'también', 'podría', 'entorpecer', 'el', 'normal', 'curso', 'de', 'éstas', ',', 'pero', 'decirles', 'que', 'vamos', 'a', 'hacer', 'todo', 'lo', 'humanamente', 'posible', 'y', 'están', 'todos', 'los', 'funcionarios', 'trabajando', 'en', 'la', 'Región', 'Metropolitana', 'para', 'poder', 'sacar', 'resultado', 'lo', 'más', 'rápidamente', 'posible']\n"
     ]
    }
   ],
   "source": [
    "#Tokenizando por palabra usando NLTK\n",
    "#=======================================================================\n",
    "from nltk.tokenize import word_tokenize\n",
    "tokens=word_tokenize(texto)\n",
    "print(tokens)"
   ]
  },
  {
   "cell_type": "code",
   "execution_count": 5,
   "metadata": {},
   "outputs": [
    {
     "name": "stdout",
     "output_type": "stream",
     "text": [
      "<FreqDist with 54 samples and 67 outcomes>\n"
     ]
    }
   ],
   "source": [
    "#Distribucion de frecuencias\n",
    "#samples= palabras unicas y outcomes=total de palabras\n",
    "#========================================================================\n",
    "from nltk.probability import FreqDist\n",
    "fdist = FreqDist(tokens)\n",
    "print(fdist)"
   ]
  },
  {
   "cell_type": "code",
   "execution_count": 6,
   "metadata": {},
   "outputs": [
    {
     "data": {
      "text/plain": [
       "[(',', 4), ('en', 2), ('que', 2), ('están', 2), ('no', 2)]"
      ]
     },
     "execution_count": 6,
     "metadata": {},
     "output_type": "execute_result"
    }
   ],
   "source": [
    "#Palabras mas comunes\n",
    "#\"Top Five\" de palabras\n",
    "#========================================================================\n",
    "fdist.most_common(5)"
   ]
  },
  {
   "cell_type": "code",
   "execution_count": 8,
   "metadata": {},
   "outputs": [
    {
     "data": {
      "image/png": "[encoded data removed]",
      "text/plain": [
       "<Figure size 432x288 with 1 Axes>"
      ]
     },
     "metadata": {
      "needs_background": "light"
     },
     "output_type": "display_data"
    }
   ],
   "source": [
    "# Grafico de distribucion de frecuencias\n",
    "#========================================================================\n",
    "import matplotlib.pyplot as plt\n",
    "fdist.plot(30,cumulative=False)\n",
    "plt.show()"
   ]
  },
  {
   "cell_type": "code",
   "execution_count": 9,
   "metadata": {},
   "outputs": [
    {
     "name": "stdout",
     "output_type": "stream",
     "text": [
      "{'el', 'nosotras', 'esté', 'eso', 'lo', 'tuyo', 'serían', 'seamos', 'estaría', 'durante', 'sería', 'hubieron', 'habíais', 'estará', 'y', 'habremos', 'una', 'los', 'ha', 'estadas', 'este', 'fuera', 'nuestros', 'hubo', 'teníamos', 'todos', 'habrán', 'fuerais', 'estarás', 'sin', 'habréis', 'tuvieron', 'habíamos', 'hayáis', 'habido', 'estuviste', 'habríamos', 'tuvieras', 'serán', 'fueses', 'esas', 'estuviéramos', 'siente', 'tendrían', 'tenías', 'la', 'hayamos', 'tuya', 'nuestra', 'nos', 'fueseis', 'tendréis', 'ni', 'vosotras', 'tuvierais', 'tienen', 'suyas', 'tengas', 'éramos', 'estamos', 'hubisteis', 'ante', 'han', 'sobre', 'míos', 'estaríais', 'estuvieses', 'hasta', 'está', 'sentido', 'tus', 'tenían', 'estaremos', 'ella', 'fuesen', 'fui', 'uno', 'estaba', 'esto', 'estaríamos', 'fuiste', 'tenida', 'somos', 'tengo', 'hubieses', 'sentid', 'les', 'habrá', 'tendrá', 'suya', 'habían', 'estuvierais', 'tenido', 'sois', 'entre', 'desde', 'habías', 'otros', 'ellas', 'estés', 'al', 'con', 'estuvieseis', 'estabas', 'a', 'muy', 'para', 'me', 'hubierais', 'tenéis', 'cual', 'vuestro', 'sea', 'tuyas', 'también', 'tuvimos', 'porque', 'eran', 'estada', 'tuviéramos', 'nuestras', 'tenidos', 'serías', 'tuviste', 'tuviese', 'estuve', 'es', 'como', 'era', 'sean', 'se', 'será', 'del', 'mi', 'sentidos', 'vosotros', 'tenía', 'esos', 'cuando', 'no', 'hubiste', 'algo', 'hay', 'os', 'fuese', 'sí', 'soy', 'muchos', 'las', 'esa', 'estaban', 'hemos', 'estarías', 'mío', 'tendríais', 'estas', 'antes', 'mía', 'fuéramos', 'habría', 'suyos', 'fuisteis', 'esta', 'vuestras', 'tienes', 'nosotros', 'que', 'algunos', 'fueran', 'seas', 'más', 'mí', 'tened', 'serás', 'tendrán', 'tuviera', 'de', 'habré', 'habrían', 'te', 'habida', 'erais', 'seáis', 'poco', 'fuésemos', 'tendrás', 'otra', 'estando', 'fueras', 'estos', 'su', 'sentida', 'tuve', 'habidas', 'estar', 'había', 'por', 'vuestros', 'quien', 'o', 'estemos', 'tenidas', 'nada', 'hube', 'otro', 'estuvieron', 'fuimos', 'hubieran', 'tuyos', 'haya', 'estuvieran', 'estabais', 'fueron', 'tuvo', 'tendrías', 'he', 'tuviesen', 'habéis', 'tú', 'mis', 'estado', 'sentidas', 'tiene', 'hubimos', 'hubiésemos', 'unos', 'son', 'hubieras', 'tendremos', 'tengáis', 'habrás', 'estéis', 'eras', 'estaréis', 'tuvieses', 'habiendo', 'suyo', 'tuvieran', 'seríais', 'habidos', 'hubieseis', 'hayan', 'nuestro', 'habríais', 'hubiesen', 'le', 'estuviésemos', 'hubiéramos', 'seremos', 'yo', 'estuviese', 'estáis', 'seréis', 'tengan', 'contra', 'qué', 'tu', 'estarán', 'ya', 'estuviera', 'vuestra', 'tanto', 'has', 'estén', 'tendríamos', 'estaré', 'estábamos', 'seré', 'tengamos', 'un', 'donde', 'hayas', 'eres', 'tendría', 'él', 'pero', 'estás', 'están', 'mucho', 'sintiendo', 'e', 'tendré', 'estoy', 'tenga', 'estuvo', 'fue', 'ese', 'hubiese', 'en', 'estad', 'teníais', 'estuvimos', 'tenemos', 'ti', 'estuvisteis', 'tuvieseis', 'teniendo', 'estarían', 'seríamos', 'estuvieras', 'estados', 'otras', 'hubiera', 'estuviesen', 'algunas', 'todo', 'tuvisteis', 'habrías', 'mías', 'sus', 'tuviésemos', 'quienes', 'ellos'}\n"
     ]
    }
   ],
   "source": [
    "# STOP WORDS\n",
    "# Palabras vacías consideradas como ruido en el texto. El texto puede contener palabras vacías como vuestro\n",
    "# muy, esto, etc.\n",
    "# NLTK elimina palabras vacías:  crear una lista de palabras vacías y filtrar lista de tokens \n",
    "# a partir de estas palabras.\n",
    "\n",
    "from nltk.corpus import stopwords\n",
    "stop_words=set(stopwords.words(\"spanish\"))\n",
    "print(stop_words)"
   ]
  },
  {
   "cell_type": "code",
   "execution_count": 10,
   "metadata": {},
   "outputs": [
    {
     "name": "stdout",
     "output_type": "stream",
     "text": [
      "Texto roginal tokenizado: ['De', 'algo', 'estoy', 'seguro', ',', 'en', 'estos', 'momentos', 'hay', 'personas', 'que', 'ya', 'están', 'detenidas', ',', 'yo', 'no', 'puedo', 'entregar', 'detalles', 'porque', 'no', 'acostumbro', 'a', 'entregar', 'detalles', 'de', 'las', 'investigaciones', ',', 'también', 'podría', 'entorpecer', 'el', 'normal', 'curso', 'de', 'éstas', ',', 'pero', 'decirles', 'que', 'vamos', 'a', 'hacer', 'todo', 'lo', 'humanamente', 'posible', 'y', 'están', 'todos', 'los', 'funcionarios', 'trabajando', 'en', 'la', 'Región', 'Metropolitana', 'para', 'poder', 'sacar', 'resultado', 'lo', 'más', 'rápidamente', 'posible']\n",
      "Texto Filtrado: ['De', 'seguro', ',', 'momentos', 'personas', 'detenidas', ',', 'puedo', 'entregar', 'detalles', 'acostumbro', 'entregar', 'detalles', 'investigaciones', ',', 'podría', 'entorpecer', 'normal', 'curso', 'éstas', ',', 'decirles', 'vamos', 'hacer', 'humanamente', 'posible', 'funcionarios', 'trabajando', 'Región', 'Metropolitana', 'poder', 'sacar', 'resultado', 'rápidamente', 'posible']\n"
     ]
    }
   ],
   "source": [
    "#Filtramos el Texto Original usando las palabras vacias (Stop Words version Español)\n",
    "#===================================================================\n",
    "filtered_sent=[]\n",
    "for w in tokens:\n",
    "    if w not in stop_words:\n",
    "        filtered_sent.append(w)\n",
    "print(\"Texto roginal tokenizado:\",tokens)\n",
    "print(\"Texto Filtrado:\",filtered_sent)"
   ]
  },
  {
   "cell_type": "code",
   "execution_count": 11,
   "metadata": {},
   "outputs": [
    {
     "name": "stdout",
     "output_type": "stream",
     "text": [
      "Texto Filtado: ['De', 'seguro', ',', 'momentos', 'personas', 'detenidas', ',', 'puedo', 'entregar', 'detalles', 'acostumbro', 'entregar', 'detalles', 'investigaciones', ',', 'podría', 'entorpecer', 'normal', 'curso', 'éstas', ',', 'decirles', 'vamos', 'hacer', 'humanamente', 'posible', 'funcionarios', 'trabajando', 'Región', 'Metropolitana', 'poder', 'sacar', 'resultado', 'rápidamente', 'posible']\n",
      "Texto con palabras primitivas (Derivadas): ['de', 'seguro', ',', 'momento', 'persona', 'detenida', ',', 'puedo', 'entregar', 'detal', 'acostumbro', 'entregar', 'detal', 'investigacion', ',', 'podría', 'entorpec', 'normal', 'curso', 'ésta', ',', 'decirl', 'vamo', 'hacer', 'humanament', 'posibl', 'funcionario', 'trabajando', 'región', 'metropolitana', 'poder', 'sacar', 'resultado', 'rápidament', 'posibl']\n"
     ]
    }
   ],
   "source": [
    "# Stemming\n",
    "# La derivación es un proceso de normalización lingüística, que reduce las palabras a su palabra raíz o elimina \n",
    "# los afijos derivados. Por ejemplo, conexión, conectado, palabra de conexión se reduce a una palabra \n",
    "# común \"conectar\".\n",
    "#===========================================================================================\n",
    "# Esta opcion funciona correctamente para texto en ingles, español tiene multiples problemas\n",
    "#===========================================================================================\n",
    "from nltk.stem import PorterStemmer\n",
    "from nltk.tokenize import sent_tokenize, word_tokenize\n",
    "\n",
    "ps = PorterStemmer()\n",
    "\n",
    "stemmed_words=[]\n",
    "for w in filtered_sent:\n",
    "    stemmed_words.append(ps.stem(w))\n",
    "\n",
    "print(\"Texto Filtado:\",filtered_sent)\n",
    "print(\"Texto con palabras primitivas (Derivadas):\",stemmed_words)"
   ]
  },
  {
   "cell_type": "code",
   "execution_count": null,
   "metadata": {},
   "outputs": [],
   "source": [
    "#Lexicon Normalization\n",
    "#Igual que la accion anterior (Stemming)\n",
    "#La lematización reduce las palabras a su palabra base, que son lemas lingüísticamente correctos. \n",
    "#Transforma palabra raíz con el uso de vocabulario y análisis morfológico. \n",
    "#La lematización suele ser más sofisticada que la derivación. \n",
    "#Stemmer trabaja con una palabra individual sin conocimiento del contexto. \n",
    "#Por ejemplo, la palabra \"mejor\" tiene \"bueno\" como lema. \n",
    "#Esto se perderá al derivar porque requiere una búsqueda en el diccionario.\n",
    "\n",
    "#===========================================================================================\n",
    "# Esta opcion funciona correctamente para texto en ingles, español tiene multiples problemas\n",
    "#===========================================================================================\n",
    "\n",
    "from nltk.stem.wordnet import WordNetLemmatizer\n",
    "lem = WordNetLemmatizer()\n",
    "\n",
    "from nltk.stem.porter import PorterStemmer\n",
    "stem = PorterStemmer()\n",
    "\n",
    "texto = \"running\"\n",
    "print(\"Lemmatized Word:\",lem.lemmatize(texto,\"v\"))\n",
    "print(\"Stemmed Word:\",stem.stem(texto))"
   ]
  },
  {
   "cell_type": "code",
   "execution_count": 12,
   "metadata": {},
   "outputs": [
    {
     "data": {
      "text/plain": [
       "[('De', 'NNP'),\n",
       " ('seguro', 'NN'),\n",
       " (',', ','),\n",
       " ('momentos', 'FW'),\n",
       " ('personas', 'FW'),\n",
       " ('detenidas', 'NN'),\n",
       " (',', ','),\n",
       " ('puedo', 'NN'),\n",
       " ('entregar', 'NN'),\n",
       " ('detalles', 'NNS'),\n",
       " ('acostumbro', 'VBP'),\n",
       " ('entregar', 'JJ'),\n",
       " ('detalles', 'NNS'),\n",
       " ('investigaciones', 'NNS'),\n",
       " (',', ','),\n",
       " ('podría', 'JJ'),\n",
       " ('entorpecer', 'NN'),\n",
       " ('normal', 'JJ'),\n",
       " ('curso', 'NN'),\n",
       " ('éstas', 'NNS'),\n",
       " (',', ','),\n",
       " ('decirles', 'NNS'),\n",
       " ('vamos', 'VBP'),\n",
       " ('hacer', 'NN'),\n",
       " ('humanamente', 'NN'),\n",
       " ('posible', 'JJ'),\n",
       " ('funcionarios', 'NNS'),\n",
       " ('trabajando', 'VBP'),\n",
       " ('Región', 'NNP'),\n",
       " ('Metropolitana', 'NNP'),\n",
       " ('poder', 'NN'),\n",
       " ('sacar', 'NN'),\n",
       " ('resultado', 'NN'),\n",
       " ('rápidamente', 'NN'),\n",
       " ('posible', 'JJ')]"
      ]
     },
     "execution_count": 12,
     "metadata": {},
     "output_type": "execute_result"
    }
   ],
   "source": [
    "#Clasificacion de los tokens\n",
    "#===========================================================================================\n",
    "# Esta opcion funciona correctamente para texto en ingles, español tiene multiples problemas\n",
    "#===========================================================================================\n",
    "nltk.pos_tag(filtered_sent)"
   ]
  },
  {
   "cell_type": "code",
   "execution_count": 13,
   "metadata": {},
   "outputs": [],
   "source": [
    "#Lista de tags:\n",
    "#CC Conjunción de coordinación\n",
    "#CD dígito cardinal\n",
    "#DT Determinador\n",
    "#EX existencial allí (como: “hay”… piensa en ello como “existe”)\n",
    "#FW palabra extranjera\n",
    "#IN preposición/junta subordinación\n",
    "#JJ  Adjetivo ‘grande’\n",
    "#JJR Adjetivo comparativo ‘más grande\n",
    "#JJS, Adjetivo  superlativo ‘más grande’.\n",
    "#LS Marcador de lista  1)\n",
    "#MD modal podría, podrá\n",
    "#NN sustantivo, singular “desk” (escritorio)\n",
    "#NNS sustantivo plural ‘escritorios\n",
    "#NNP sustantivo propio, singular “Harrison”\n",
    "#NNPS sustantivo propio, plural ‘Americanos\n",
    "#PDT Predeterminador ‘todos los niños’.\n",
    "#POS posesivo final ‘de los padres’\n",
    "#PRP pronombre personal ‘él, ella’\n",
    "#PRP$ pronombre posesivo ‘mi, suyo, de ella’\n",
    "#RB adverbio muy, silenciosamente,\n",
    "#RBR, Adverbio  comparativamente mejor\n",
    "#RBS adverbio, superlativo mejor\n",
    "#RP partículas\n",
    "#TO particula de infinitivo\n",
    "#UH interjección jajaa\n",
    "#VB verbo, ‘beber’\n",
    "#VBD verbo, tiempo pasado ‘tomó’\n",
    "#VBG verbo, gerundio/presente participio tomando\n",
    "#VBN verbo, participio pasado tomado\n",
    "#VBP verbo, cantar presente\n",
    "#VBZ verbo, tercera persona\n",
    "#WDT wh-determiner (which…)\n",
    "#WP pronombre de pregunta (quién, qué)\n",
    "#WP$ posesivo con pronombre (cuyo)\n",
    "#WRB wh-abverb (donde, cuando)"
   ]
  },
  {
   "cell_type": "code",
   "execution_count": 14,
   "metadata": {},
   "outputs": [
    {
     "name": "stdout",
     "output_type": "stream",
     "text": [
      "Sentiment(polarity=-0.16666666666666666, subjectivity=0.43333333333333335)\n",
      "[('This', 'DT'), ('table', 'NN'), ('is', 'VBZ'), ('black', 'JJ')]\n",
      "Esta mesa es negra\n"
     ]
    }
   ],
   "source": [
    "#Analisis de sentimiento con exto en ingles y luego traducido al español\n",
    "#La polaridad  entre -1 y 1, donde -1 es una declaración negativa y 1 es una declaración positiva. \n",
    "#La subjetividad es la puntuación de TextBlobs. Si la declaración se considera más basada en una opinión o\n",
    "#basada en hechos. Un puntaje de subjetividad más alto significa que es menos objetivo y, por lo tanto,\n",
    "#tendría muchas opiniones.\n",
    "#===========================================================================================\n",
    "# Esta opcion funciona correctamente para texto en ingles, español tiene multiples problemas\n",
    "#===========================================================================================\n",
    "\n",
    "from textblob import TextBlob\n",
    " \n",
    "texto = TextBlob(\"This table is black\")\n",
    "\n",
    "#Realizacion del analisis de sentimiento\n",
    "print(texto.sentiment)\n",
    " \n",
    "#Categorizacion de los tokens\n",
    "print(texto.tags)\n",
    " \n",
    "#Traduccion del texto  Español\n",
    "print(texto.translate(to='es'))\n",
    " \n",
    "#Funciones disponibles para la clase analysis\n",
    "#print(dir(analysis))"
   ]
  },
  {
   "cell_type": "code",
   "execution_count": 15,
   "metadata": {},
   "outputs": [],
   "source": [
    "#Otra opcion, mas basica que la anterior,  es util para analizar texto en español\n",
    "#!pip install sentiment-analysis-spanish\n",
    "#!pip install keras tensorflow\n",
    "from sentiment_analysis_spanish import sentiment_analysis"
   ]
  },
  {
   "cell_type": "code",
   "execution_count": 16,
   "metadata": {},
   "outputs": [],
   "source": [
    "#La función sentiment(text) devuelve un número entre 0 y 1. \n",
    "#Esta es la probabilidad de que el texto de la variable sea \"positivo\". \n",
    "#Las probabilidades bajas significan que el texto es negativo (números cercanos a 0), las probabilidades altas\n",
    "#(números cercanos a 1) significan que el texto es positivo. \n",
    "#El espacio intermedio corresponde a textos neutrales."
   ]
  },
  {
   "cell_type": "code",
   "execution_count": 17,
   "metadata": {},
   "outputs": [
    {
     "name": "stdout",
     "output_type": "stream",
     "text": [
      "0.9625667149123897\n"
     ]
    },
    {
     "name": "stderr",
     "output_type": "stream",
     "text": [
      "/home/julio/snap/jupyter/common/lib/python3.7/site-packages/sklearn/base.py:315: UserWarning: Trying to unpickle estimator CountVectorizer from version 0.23.2 when using version 0.24.2. This might lead to breaking code or invalid results. Use at your own risk.\n",
      "  UserWarning)\n",
      "/home/julio/snap/jupyter/common/lib/python3.7/site-packages/sklearn/base.py:315: UserWarning: Trying to unpickle estimator MultinomialNB from version 0.23.2 when using version 0.24.2. This might lead to breaking code or invalid results. Use at your own risk.\n",
      "  UserWarning)\n"
     ]
    }
   ],
   "source": [
    "#Ejemplo 1\n",
    "texto1 = sentiment_analysis.SentimentAnalysisSpanish()\n",
    "print(texto1.sentiment(\"Este curso es el mejor\"))"
   ]
  },
  {
   "cell_type": "code",
   "execution_count": 18,
   "metadata": {},
   "outputs": [
    {
     "name": "stdout",
     "output_type": "stream",
     "text": [
      "0.0043090799740708886\n"
     ]
    }
   ],
   "source": [
    "#Ejemplo 2\n",
    "texto2 = sentiment_analysis.SentimentAnalysisSpanish()\n",
    "print(texto2.sentiment(\"no es bueno lo que esta sucediendo\"))"
   ]
  }
 ],
 "metadata": {
  "kernelspec": {
   "display_name": "Python 3",
   "language": "python",
   "name": "python3"
  },
  "language_info": {
   "codemirror_mode": {
    "name": "ipython",
    "version": 3
   },
   "file_extension": ".py",
   "mimetype": "text/x-python",
   "name": "python",
   "nbconvert_exporter": "python",
   "pygments_lexer": "ipython3",
   "version": "3.7.3"
  }
 },
 "nbformat": 4,
 "nbformat_minor": 2
}
